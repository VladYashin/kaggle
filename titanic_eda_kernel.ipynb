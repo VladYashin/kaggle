{
 "cells": [
  {
   "cell_type": "code",
   "execution_count": 1,
   "metadata": {},
   "outputs": [],
   "source": [
    "import numpy as np\n",
    "import pandas as pd\n",
    "import seaborn as sns\n",
    "import matplotlib.pyplot as plt"
   ]
  },
  {
   "cell_type": "code",
   "execution_count": 2,
   "metadata": {},
   "outputs": [
    {
     "data": {
      "text/html": [
       "<div>\n",
       "<style scoped>\n",
       "    .dataframe tbody tr th:only-of-type {\n",
       "        vertical-align: middle;\n",
       "    }\n",
       "\n",
       "    .dataframe tbody tr th {\n",
       "        vertical-align: top;\n",
       "    }\n",
       "\n",
       "    .dataframe thead th {\n",
       "        text-align: right;\n",
       "    }\n",
       "</style>\n",
       "<table border=\"1\" class=\"dataframe\">\n",
       "  <thead>\n",
       "    <tr style=\"text-align: right;\">\n",
       "      <th></th>\n",
       "      <th>PassengerId</th>\n",
       "      <th>Survived</th>\n",
       "      <th>Pclass</th>\n",
       "      <th>Name</th>\n",
       "      <th>Sex</th>\n",
       "      <th>Age</th>\n",
       "      <th>SibSp</th>\n",
       "      <th>Parch</th>\n",
       "      <th>Ticket</th>\n",
       "      <th>Fare</th>\n",
       "      <th>Cabin</th>\n",
       "      <th>Embarked</th>\n",
       "    </tr>\n",
       "  </thead>\n",
       "  <tbody>\n",
       "    <tr>\n",
       "      <th>0</th>\n",
       "      <td>1</td>\n",
       "      <td>0</td>\n",
       "      <td>3</td>\n",
       "      <td>Braund, Mr. Owen Harris</td>\n",
       "      <td>male</td>\n",
       "      <td>22.0</td>\n",
       "      <td>1</td>\n",
       "      <td>0</td>\n",
       "      <td>A/5 21171</td>\n",
       "      <td>7.2500</td>\n",
       "      <td>NaN</td>\n",
       "      <td>S</td>\n",
       "    </tr>\n",
       "    <tr>\n",
       "      <th>1</th>\n",
       "      <td>2</td>\n",
       "      <td>1</td>\n",
       "      <td>1</td>\n",
       "      <td>Cumings, Mrs. John Bradley (Florence Briggs Th...</td>\n",
       "      <td>female</td>\n",
       "      <td>38.0</td>\n",
       "      <td>1</td>\n",
       "      <td>0</td>\n",
       "      <td>PC 17599</td>\n",
       "      <td>71.2833</td>\n",
       "      <td>C85</td>\n",
       "      <td>C</td>\n",
       "    </tr>\n",
       "    <tr>\n",
       "      <th>2</th>\n",
       "      <td>3</td>\n",
       "      <td>1</td>\n",
       "      <td>3</td>\n",
       "      <td>Heikkinen, Miss. Laina</td>\n",
       "      <td>female</td>\n",
       "      <td>26.0</td>\n",
       "      <td>0</td>\n",
       "      <td>0</td>\n",
       "      <td>STON/O2. 3101282</td>\n",
       "      <td>7.9250</td>\n",
       "      <td>NaN</td>\n",
       "      <td>S</td>\n",
       "    </tr>\n",
       "    <tr>\n",
       "      <th>3</th>\n",
       "      <td>4</td>\n",
       "      <td>1</td>\n",
       "      <td>1</td>\n",
       "      <td>Futrelle, Mrs. Jacques Heath (Lily May Peel)</td>\n",
       "      <td>female</td>\n",
       "      <td>35.0</td>\n",
       "      <td>1</td>\n",
       "      <td>0</td>\n",
       "      <td>113803</td>\n",
       "      <td>53.1000</td>\n",
       "      <td>C123</td>\n",
       "      <td>S</td>\n",
       "    </tr>\n",
       "    <tr>\n",
       "      <th>4</th>\n",
       "      <td>5</td>\n",
       "      <td>0</td>\n",
       "      <td>3</td>\n",
       "      <td>Allen, Mr. William Henry</td>\n",
       "      <td>male</td>\n",
       "      <td>35.0</td>\n",
       "      <td>0</td>\n",
       "      <td>0</td>\n",
       "      <td>373450</td>\n",
       "      <td>8.0500</td>\n",
       "      <td>NaN</td>\n",
       "      <td>S</td>\n",
       "    </tr>\n",
       "  </tbody>\n",
       "</table>\n",
       "</div>"
      ],
      "text/plain": [
       "   PassengerId  Survived  Pclass  \\\n",
       "0            1         0       3   \n",
       "1            2         1       1   \n",
       "2            3         1       3   \n",
       "3            4         1       1   \n",
       "4            5         0       3   \n",
       "\n",
       "                                                Name     Sex   Age  SibSp  \\\n",
       "0                            Braund, Mr. Owen Harris    male  22.0      1   \n",
       "1  Cumings, Mrs. John Bradley (Florence Briggs Th...  female  38.0      1   \n",
       "2                             Heikkinen, Miss. Laina  female  26.0      0   \n",
       "3       Futrelle, Mrs. Jacques Heath (Lily May Peel)  female  35.0      1   \n",
       "4                           Allen, Mr. William Henry    male  35.0      0   \n",
       "\n",
       "   Parch            Ticket     Fare Cabin Embarked  \n",
       "0      0         A/5 21171   7.2500   NaN        S  \n",
       "1      0          PC 17599  71.2833   C85        C  \n",
       "2      0  STON/O2. 3101282   7.9250   NaN        S  \n",
       "3      0            113803  53.1000  C123        S  \n",
       "4      0            373450   8.0500   NaN        S  "
      ]
     },
     "execution_count": 2,
     "metadata": {},
     "output_type": "execute_result"
    }
   ],
   "source": [
    "data = pd.read_csv('train.csv')\n",
    "gender_data = pd.read_csv('gender_submission.csv')\n",
    "test_data = pd.read_csv('test.csv')\n",
    "data.head()"
   ]
  },
  {
   "cell_type": "code",
   "execution_count": 3,
   "metadata": {},
   "outputs": [],
   "source": [
    "%config IPCompleter.greedy=True"
   ]
  },
  {
   "cell_type": "code",
   "execution_count": 4,
   "metadata": {},
   "outputs": [
    {
     "data": {
      "text/html": [
       "<div>\n",
       "<style scoped>\n",
       "    .dataframe tbody tr th:only-of-type {\n",
       "        vertical-align: middle;\n",
       "    }\n",
       "\n",
       "    .dataframe tbody tr th {\n",
       "        vertical-align: top;\n",
       "    }\n",
       "\n",
       "    .dataframe thead th {\n",
       "        text-align: right;\n",
       "    }\n",
       "</style>\n",
       "<table border=\"1\" class=\"dataframe\">\n",
       "  <thead>\n",
       "    <tr style=\"text-align: right;\">\n",
       "      <th></th>\n",
       "      <th>PassengerId</th>\n",
       "      <th>Survived</th>\n",
       "      <th>Pclass</th>\n",
       "      <th>Name</th>\n",
       "      <th>Sex</th>\n",
       "      <th>Age</th>\n",
       "      <th>SibSp</th>\n",
       "      <th>Parch</th>\n",
       "      <th>Ticket</th>\n",
       "      <th>Fare</th>\n",
       "      <th>Cabin</th>\n",
       "      <th>Embarked</th>\n",
       "    </tr>\n",
       "  </thead>\n",
       "  <tbody>\n",
       "    <tr>\n",
       "      <th>886</th>\n",
       "      <td>887</td>\n",
       "      <td>0</td>\n",
       "      <td>2</td>\n",
       "      <td>Montvila, Rev. Juozas</td>\n",
       "      <td>male</td>\n",
       "      <td>27.0</td>\n",
       "      <td>0</td>\n",
       "      <td>0</td>\n",
       "      <td>211536</td>\n",
       "      <td>13.00</td>\n",
       "      <td>NaN</td>\n",
       "      <td>S</td>\n",
       "    </tr>\n",
       "    <tr>\n",
       "      <th>887</th>\n",
       "      <td>888</td>\n",
       "      <td>1</td>\n",
       "      <td>1</td>\n",
       "      <td>Graham, Miss. Margaret Edith</td>\n",
       "      <td>female</td>\n",
       "      <td>19.0</td>\n",
       "      <td>0</td>\n",
       "      <td>0</td>\n",
       "      <td>112053</td>\n",
       "      <td>30.00</td>\n",
       "      <td>B42</td>\n",
       "      <td>S</td>\n",
       "    </tr>\n",
       "    <tr>\n",
       "      <th>888</th>\n",
       "      <td>889</td>\n",
       "      <td>0</td>\n",
       "      <td>3</td>\n",
       "      <td>Johnston, Miss. Catherine Helen \"Carrie\"</td>\n",
       "      <td>female</td>\n",
       "      <td>NaN</td>\n",
       "      <td>1</td>\n",
       "      <td>2</td>\n",
       "      <td>W./C. 6607</td>\n",
       "      <td>23.45</td>\n",
       "      <td>NaN</td>\n",
       "      <td>S</td>\n",
       "    </tr>\n",
       "    <tr>\n",
       "      <th>889</th>\n",
       "      <td>890</td>\n",
       "      <td>1</td>\n",
       "      <td>1</td>\n",
       "      <td>Behr, Mr. Karl Howell</td>\n",
       "      <td>male</td>\n",
       "      <td>26.0</td>\n",
       "      <td>0</td>\n",
       "      <td>0</td>\n",
       "      <td>111369</td>\n",
       "      <td>30.00</td>\n",
       "      <td>C148</td>\n",
       "      <td>C</td>\n",
       "    </tr>\n",
       "    <tr>\n",
       "      <th>890</th>\n",
       "      <td>891</td>\n",
       "      <td>0</td>\n",
       "      <td>3</td>\n",
       "      <td>Dooley, Mr. Patrick</td>\n",
       "      <td>male</td>\n",
       "      <td>32.0</td>\n",
       "      <td>0</td>\n",
       "      <td>0</td>\n",
       "      <td>370376</td>\n",
       "      <td>7.75</td>\n",
       "      <td>NaN</td>\n",
       "      <td>Q</td>\n",
       "    </tr>\n",
       "  </tbody>\n",
       "</table>\n",
       "</div>"
      ],
      "text/plain": [
       "     PassengerId  Survived  Pclass                                      Name  \\\n",
       "886          887         0       2                     Montvila, Rev. Juozas   \n",
       "887          888         1       1              Graham, Miss. Margaret Edith   \n",
       "888          889         0       3  Johnston, Miss. Catherine Helen \"Carrie\"   \n",
       "889          890         1       1                     Behr, Mr. Karl Howell   \n",
       "890          891         0       3                       Dooley, Mr. Patrick   \n",
       "\n",
       "        Sex   Age  SibSp  Parch      Ticket   Fare Cabin Embarked  \n",
       "886    male  27.0      0      0      211536  13.00   NaN        S  \n",
       "887  female  19.0      0      0      112053  30.00   B42        S  \n",
       "888  female   NaN      1      2  W./C. 6607  23.45   NaN        S  \n",
       "889    male  26.0      0      0      111369  30.00  C148        C  \n",
       "890    male  32.0      0      0      370376   7.75   NaN        Q  "
      ]
     },
     "execution_count": 4,
     "metadata": {},
     "output_type": "execute_result"
    }
   ],
   "source": [
    "data.tail()"
   ]
  },
  {
   "cell_type": "code",
   "execution_count": 5,
   "metadata": {},
   "outputs": [
    {
     "data": {
      "text/plain": [
       "PassengerId      int64\n",
       "Survived         int64\n",
       "Pclass           int64\n",
       "Name            object\n",
       "Sex             object\n",
       "Age            float64\n",
       "SibSp            int64\n",
       "Parch            int64\n",
       "Ticket          object\n",
       "Fare           float64\n",
       "Cabin           object\n",
       "Embarked        object\n",
       "dtype: object"
      ]
     },
     "execution_count": 5,
     "metadata": {},
     "output_type": "execute_result"
    }
   ],
   "source": [
    "data.dtypes"
   ]
  },
  {
   "cell_type": "code",
   "execution_count": 6,
   "metadata": {},
   "outputs": [
    {
     "data": {
      "text/plain": [
       "Index(['PassengerId', 'Survived', 'Pclass', 'Name', 'Sex', 'Age', 'SibSp',\n",
       "       'Parch', 'Ticket', 'Fare', 'Cabin', 'Embarked'],\n",
       "      dtype='object')"
      ]
     },
     "execution_count": 6,
     "metadata": {},
     "output_type": "execute_result"
    }
   ],
   "source": [
    "data.columns"
   ]
  },
  {
   "cell_type": "code",
   "execution_count": 7,
   "metadata": {},
   "outputs": [
    {
     "data": {
      "text/plain": [
       "PassengerId      0\n",
       "Survived         0\n",
       "Pclass           0\n",
       "Name             0\n",
       "Sex              0\n",
       "Age            177\n",
       "SibSp            0\n",
       "Parch            0\n",
       "Ticket           0\n",
       "Fare             0\n",
       "Cabin          687\n",
       "Embarked         2\n",
       "dtype: int64"
      ]
     },
     "execution_count": 7,
     "metadata": {},
     "output_type": "execute_result"
    }
   ],
   "source": [
    "# Checking data for null obejcts + summing them up\n",
    "data.isnull().sum()"
   ]
  },
  {
   "cell_type": "code",
   "execution_count": 8,
   "metadata": {},
   "outputs": [
    {
     "name": "stdout",
     "output_type": "stream",
     "text": [
      "Sex     Survived\n",
      "female  0            81\n",
      "        1           233\n",
      "male    0           468\n",
      "        1           109\n",
      "Name: Survived, dtype: int64\n",
      "\n",
      "Pclass  Survived\n",
      "1       0            80\n",
      "        1           136\n",
      "2       0            97\n",
      "        1            87\n",
      "3       0           372\n",
      "        1           119\n",
      "Name: Survived, dtype: int64\n"
     ]
    }
   ],
   "source": [
    "# Check the survival rate by analyzing CATEGORICAL (sex)data. Later on also ordinal and continuous (age) features \n",
    "sexsurv = data.groupby(['Sex', 'Survived'])['Survived'].count()\n",
    "pclasssurv = data.groupby(['Pclass', 'Survived'])['Survived'].count()\n",
    "\n",
    "print(sexsurv)\n",
    "print('')\n",
    "print(pclasssurv)"
   ]
  },
  {
   "cell_type": "code",
   "execution_count": 9,
   "metadata": {},
   "outputs": [
    {
     "data": {
      "image/png": "[encoded data removed]",
      "text/plain": [
       "<Figure size 1080x360 with 2 Axes>"
      ]
     },
     "metadata": {
      "needs_background": "light"
     },
     "output_type": "display_data"
    }
   ],
   "source": [
    "# Plotting the survival rate\n",
    "\n",
    "f,ax=plt.subplots(1,2,figsize=(15,5))\n",
    "data[['Sex','Survived']].groupby(['Sex']).mean().plot.bar(ax=ax[0])\n",
    "ax[0].set_title('Survived vs. Sex')\n",
    "sns.countplot('Sex',hue='Survived',data=data,ax=ax[1])\n",
    "ax[1].set_title('Sex: Survived vs. Dead')\n",
    "plt.show()"
   ]
  },
  {
   "cell_type": "code",
   "execution_count": 10,
   "metadata": {},
   "outputs": [
    {
     "data": {
      "image/png": "[encoded data removed]",
      "text/plain": [
       "<Figure size 1080x360 with 2 Axes>"
      ]
     },
     "metadata": {
      "needs_background": "light"
     },
     "output_type": "display_data"
    }
   ],
   "source": [
    "# Number of survived per Pclass and sex. \n",
    "# Class3 - expensive. Class1 - low budget. 0 - Dead. 1 - Survived.\n",
    "\n",
    "f,ax=plt.subplots(1,2, figsize=(15,5))\n",
    "\n",
    "sns.countplot('Pclass', hue='Survived', data=data, ax=ax[1])\n",
    "ax[1].set_title('Pclass vs. Survived')\n",
    "\n",
    "data['Pclass'].value_counts().plot.bar(ax=ax[0])\n",
    "ax[0].set_title('Passengers per Class')\n",
    "ax[0].set_xlabel('Pclass')\n",
    "ax[0].set_ylabel('Count')\n",
    "plt.show()"
   ]
  },
  {
   "cell_type": "code",
   "execution_count": 11,
   "metadata": {},
   "outputs": [
    {
     "data": {
      "text/html": [
       "<style  type=\"text/css\" >\n",
       "    #T_cb853da8_b002_11ea_9b6e_e86a644f3b81row0_col0 {\n",
       "            background-color:  #ffff66;\n",
       "            color:  #000000;\n",
       "        }    #T_cb853da8_b002_11ea_9b6e_e86a644f3b81row0_col1 {\n",
       "            background-color:  #ffff66;\n",
       "            color:  #000000;\n",
       "        }    #T_cb853da8_b002_11ea_9b6e_e86a644f3b81row0_col2 {\n",
       "            background-color:  #f1f866;\n",
       "            color:  #000000;\n",
       "        }    #T_cb853da8_b002_11ea_9b6e_e86a644f3b81row0_col3 {\n",
       "            background-color:  #ffff66;\n",
       "            color:  #000000;\n",
       "        }    #T_cb853da8_b002_11ea_9b6e_e86a644f3b81row1_col0 {\n",
       "            background-color:  #96cb66;\n",
       "            color:  #000000;\n",
       "        }    #T_cb853da8_b002_11ea_9b6e_e86a644f3b81row1_col1 {\n",
       "            background-color:  #a3d166;\n",
       "            color:  #000000;\n",
       "        }    #T_cb853da8_b002_11ea_9b6e_e86a644f3b81row1_col2 {\n",
       "            background-color:  #f1f866;\n",
       "            color:  #000000;\n",
       "        }    #T_cb853da8_b002_11ea_9b6e_e86a644f3b81row1_col3 {\n",
       "            background-color:  #cfe766;\n",
       "            color:  #000000;\n",
       "        }    #T_cb853da8_b002_11ea_9b6e_e86a644f3b81row2_col0 {\n",
       "            background-color:  #a7d366;\n",
       "            color:  #000000;\n",
       "        }    #T_cb853da8_b002_11ea_9b6e_e86a644f3b81row2_col1 {\n",
       "            background-color:  #85c266;\n",
       "            color:  #000000;\n",
       "        }    #T_cb853da8_b002_11ea_9b6e_e86a644f3b81row2_col2 {\n",
       "            background-color:  #6eb666;\n",
       "            color:  #000000;\n",
       "        }    #T_cb853da8_b002_11ea_9b6e_e86a644f3b81row2_col3 {\n",
       "            background-color:  #85c266;\n",
       "            color:  #000000;\n",
       "        }    #T_cb853da8_b002_11ea_9b6e_e86a644f3b81row3_col0 {\n",
       "            background-color:  #cde666;\n",
       "            color:  #000000;\n",
       "        }    #T_cb853da8_b002_11ea_9b6e_e86a644f3b81row3_col1 {\n",
       "            background-color:  #f0f866;\n",
       "            color:  #000000;\n",
       "        }    #T_cb853da8_b002_11ea_9b6e_e86a644f3b81row3_col2 {\n",
       "            background-color:  #ffff66;\n",
       "            color:  #000000;\n",
       "        }    #T_cb853da8_b002_11ea_9b6e_e86a644f3b81row3_col3 {\n",
       "            background-color:  #f7fb66;\n",
       "            color:  #000000;\n",
       "        }    #T_cb853da8_b002_11ea_9b6e_e86a644f3b81row4_col0 {\n",
       "            background-color:  #008066;\n",
       "            color:  #f1f1f1;\n",
       "        }    #T_cb853da8_b002_11ea_9b6e_e86a644f3b81row4_col1 {\n",
       "            background-color:  #008066;\n",
       "            color:  #f1f1f1;\n",
       "        }    #T_cb853da8_b002_11ea_9b6e_e86a644f3b81row4_col2 {\n",
       "            background-color:  #008066;\n",
       "            color:  #f1f1f1;\n",
       "        }    #T_cb853da8_b002_11ea_9b6e_e86a644f3b81row4_col3 {\n",
       "            background-color:  #008066;\n",
       "            color:  #f1f1f1;\n",
       "        }</style><table id=\"T_cb853da8_b002_11ea_9b6e_e86a644f3b81\" ><thead>    <tr>        <th class=\"blank\" ></th>        <th class=\"index_name level0\" >Pclass</th>        <th class=\"col_heading level0 col0\" >1</th>        <th class=\"col_heading level0 col1\" >2</th>        <th class=\"col_heading level0 col2\" >3</th>        <th class=\"col_heading level0 col3\" >All</th>    </tr>    <tr>        <th class=\"index_name level0\" >Sex</th>        <th class=\"index_name level1\" >Survived</th>        <th class=\"blank\" ></th>        <th class=\"blank\" ></th>        <th class=\"blank\" ></th>        <th class=\"blank\" ></th>    </tr></thead><tbody>\n",
       "                <tr>\n",
       "                        <th id=\"T_cb853da8_b002_11ea_9b6e_e86a644f3b81level0_row0\" class=\"row_heading level0 row0\" rowspan=2>female</th>\n",
       "                        <th id=\"T_cb853da8_b002_11ea_9b6e_e86a644f3b81level1_row0\" class=\"row_heading level1 row0\" >0</th>\n",
       "                        <td id=\"T_cb853da8_b002_11ea_9b6e_e86a644f3b81row0_col0\" class=\"data row0 col0\" >3</td>\n",
       "                        <td id=\"T_cb853da8_b002_11ea_9b6e_e86a644f3b81row0_col1\" class=\"data row0 col1\" >6</td>\n",
       "                        <td id=\"T_cb853da8_b002_11ea_9b6e_e86a644f3b81row0_col2\" class=\"data row0 col2\" >72</td>\n",
       "                        <td id=\"T_cb853da8_b002_11ea_9b6e_e86a644f3b81row0_col3\" class=\"data row0 col3\" >81</td>\n",
       "            </tr>\n",
       "            <tr>\n",
       "                                <th id=\"T_cb853da8_b002_11ea_9b6e_e86a644f3b81level1_row1\" class=\"row_heading level1 row1\" >1</th>\n",
       "                        <td id=\"T_cb853da8_b002_11ea_9b6e_e86a644f3b81row1_col0\" class=\"data row1 col0\" >91</td>\n",
       "                        <td id=\"T_cb853da8_b002_11ea_9b6e_e86a644f3b81row1_col1\" class=\"data row1 col1\" >70</td>\n",
       "                        <td id=\"T_cb853da8_b002_11ea_9b6e_e86a644f3b81row1_col2\" class=\"data row1 col2\" >72</td>\n",
       "                        <td id=\"T_cb853da8_b002_11ea_9b6e_e86a644f3b81row1_col3\" class=\"data row1 col3\" >233</td>\n",
       "            </tr>\n",
       "            <tr>\n",
       "                        <th id=\"T_cb853da8_b002_11ea_9b6e_e86a644f3b81level0_row2\" class=\"row_heading level0 row2\" rowspan=2>male</th>\n",
       "                        <th id=\"T_cb853da8_b002_11ea_9b6e_e86a644f3b81level1_row2\" class=\"row_heading level1 row2\" >0</th>\n",
       "                        <td id=\"T_cb853da8_b002_11ea_9b6e_e86a644f3b81row2_col0\" class=\"data row2 col0\" >77</td>\n",
       "                        <td id=\"T_cb853da8_b002_11ea_9b6e_e86a644f3b81row2_col1\" class=\"data row2 col1\" >91</td>\n",
       "                        <td id=\"T_cb853da8_b002_11ea_9b6e_e86a644f3b81row2_col2\" class=\"data row2 col2\" >300</td>\n",
       "                        <td id=\"T_cb853da8_b002_11ea_9b6e_e86a644f3b81row2_col3\" class=\"data row2 col3\" >468</td>\n",
       "            </tr>\n",
       "            <tr>\n",
       "                                <th id=\"T_cb853da8_b002_11ea_9b6e_e86a644f3b81level1_row3\" class=\"row_heading level1 row3\" >1</th>\n",
       "                        <td id=\"T_cb853da8_b002_11ea_9b6e_e86a644f3b81row3_col0\" class=\"data row3 col0\" >45</td>\n",
       "                        <td id=\"T_cb853da8_b002_11ea_9b6e_e86a644f3b81row3_col1\" class=\"data row3 col1\" >17</td>\n",
       "                        <td id=\"T_cb853da8_b002_11ea_9b6e_e86a644f3b81row3_col2\" class=\"data row3 col2\" >47</td>\n",
       "                        <td id=\"T_cb853da8_b002_11ea_9b6e_e86a644f3b81row3_col3\" class=\"data row3 col3\" >109</td>\n",
       "            </tr>\n",
       "            <tr>\n",
       "                        <th id=\"T_cb853da8_b002_11ea_9b6e_e86a644f3b81level0_row4\" class=\"row_heading level0 row4\" >All</th>\n",
       "                        <th id=\"T_cb853da8_b002_11ea_9b6e_e86a644f3b81level1_row4\" class=\"row_heading level1 row4\" ></th>\n",
       "                        <td id=\"T_cb853da8_b002_11ea_9b6e_e86a644f3b81row4_col0\" class=\"data row4 col0\" >216</td>\n",
       "                        <td id=\"T_cb853da8_b002_11ea_9b6e_e86a644f3b81row4_col1\" class=\"data row4 col1\" >184</td>\n",
       "                        <td id=\"T_cb853da8_b002_11ea_9b6e_e86a644f3b81row4_col2\" class=\"data row4 col2\" >491</td>\n",
       "                        <td id=\"T_cb853da8_b002_11ea_9b6e_e86a644f3b81row4_col3\" class=\"data row4 col3\" >891</td>\n",
       "            </tr>\n",
       "    </tbody></table>"
      ],
      "text/plain": [
       "<pandas.io.formats.style.Styler at 0x1e242d7ef48>"
      ]
     },
     "execution_count": 11,
     "metadata": {},
     "output_type": "execute_result"
    }
   ],
   "source": [
    "# Crosstab for simple cross tabulation on 2+ factors/parameters. Here: Sex, survived and Pclass\n",
    "\n",
    "pd.crosstab(index=[data.Sex, data.Survived], columns=data.Pclass, margins=True).style.background_gradient(cmap='summer_r')"
   ]
  },
  {
   "cell_type": "code",
   "execution_count": 12,
   "metadata": {},
   "outputs": [
    {
     "name": "stderr",
     "output_type": "stream",
     "text": [
      "D:\\Apps\\Anaconda\\lib\\site-packages\\seaborn\\categorical.py:3669: UserWarning: The `factorplot` function has been renamed to `catplot`. The original name will be removed in a future release. Please update your code. Note that the default `kind` in `factorplot` (`'point'`) has changed `'strip'` in `catplot`.\n",
      "  warnings.warn(msg)\n"
     ]
    },
    {
     "data": {
      "text/plain": [
       "<seaborn.axisgrid.FacetGrid at 0x1e243094148>"
      ]
     },
     "execution_count": 12,
     "metadata": {},
     "output_type": "execute_result"
    },
    {
     "data": {
      "image/png": "[encoded data removed]",
      "text/plain": [
       "<Figure size 430.5x360 with 1 Axes>"
      ]
     },
     "metadata": {
      "needs_background": "light"
     },
     "output_type": "display_data"
    }
   ],
   "source": [
    "sns.factorplot('Pclass', 'Survived', hue='Sex', data=data)"
   ]
  },
  {
   "cell_type": "code",
   "execution_count": 13,
   "metadata": {},
   "outputs": [
    {
     "name": "stdout",
     "output_type": "stream",
     "text": [
      "Age of oldest:  80.0\n",
      "Age of youngest:  0.42\n",
      "Age in average:  29.69911764705882\n"
     ]
    }
   ],
   "source": [
    "# Check the survival rate by analyzing CONTINOUS (age) data\n",
    "\n",
    "print('Age of oldest: ', data['Age'].max())\n",
    "print('Age of youngest: ', data['Age'].min())\n",
    "print('Age in average: ', data['Age'].mean())"
   ]
  },
  {
   "cell_type": "code",
   "execution_count": 14,
   "metadata": {},
   "outputs": [
    {
     "data": {
      "image/png": "[encoded data removed]",
      "text/plain": [
       "<Figure size 1080x360 with 2 Axes>"
      ]
     },
     "metadata": {
      "needs_background": "light"
     },
     "output_type": "display_data"
    }
   ],
   "source": [
    "# Printing violin plot\n",
    "# Pclass --> x. Age --> y. PDF --> survived or not.\n",
    "\n",
    "f,ax=plt.subplots(1,2, figsize=(15,5))\n",
    "sns.violinplot('Pclass', 'Age', hue='Survived', data=data, split=True, ax=ax[0])\n",
    "ax[0].set_title('Pclass and age vs. Survived')\n",
    "ax[0].set_yticks(range(0, 100, 10))\n",
    "\n",
    "sns.violinplot('Sex', 'Age', hue='Survived', data=data, split=True, ax=ax[1])\n",
    "ax[1].set_title('Sex and Age vs. Survived')\n",
    "ax[1].set_yticks(range(0, 100, 10))\n",
    "plt.show()"
   ]
  },
  {
   "cell_type": "code",
   "execution_count": 15,
   "metadata": {},
   "outputs": [
    {
     "data": {
      "text/html": [
       "<style  type=\"text/css\" >\n",
       "    #T_cce9a352_b002_11ea_8f55_e86a644f3b81row0_col0 {\n",
       "            background-color:  #ffff66;\n",
       "            color:  #000000;\n",
       "        }    #T_cce9a352_b002_11ea_8f55_e86a644f3b81row0_col1 {\n",
       "            background-color:  #ffff66;\n",
       "            color:  #000000;\n",
       "        }    #T_cce9a352_b002_11ea_8f55_e86a644f3b81row0_col2 {\n",
       "            background-color:  #008066;\n",
       "            color:  #f1f1f1;\n",
       "        }    #T_cce9a352_b002_11ea_8f55_e86a644f3b81row0_col3 {\n",
       "            background-color:  #ffff66;\n",
       "            color:  #000000;\n",
       "        }    #T_cce9a352_b002_11ea_8f55_e86a644f3b81row0_col4 {\n",
       "            background-color:  #ffff66;\n",
       "            color:  #000000;\n",
       "        }    #T_cce9a352_b002_11ea_8f55_e86a644f3b81row0_col5 {\n",
       "            background-color:  #ffff66;\n",
       "            color:  #000000;\n",
       "        }    #T_cce9a352_b002_11ea_8f55_e86a644f3b81row0_col6 {\n",
       "            background-color:  #008066;\n",
       "            color:  #f1f1f1;\n",
       "        }    #T_cce9a352_b002_11ea_8f55_e86a644f3b81row0_col7 {\n",
       "            background-color:  #ffff66;\n",
       "            color:  #000000;\n",
       "        }    #T_cce9a352_b002_11ea_8f55_e86a644f3b81row0_col8 {\n",
       "            background-color:  #ffff66;\n",
       "            color:  #000000;\n",
       "        }    #T_cce9a352_b002_11ea_8f55_e86a644f3b81row0_col9 {\n",
       "            background-color:  #008066;\n",
       "            color:  #f1f1f1;\n",
       "        }    #T_cce9a352_b002_11ea_8f55_e86a644f3b81row0_col10 {\n",
       "            background-color:  #008066;\n",
       "            color:  #f1f1f1;\n",
       "        }    #T_cce9a352_b002_11ea_8f55_e86a644f3b81row0_col11 {\n",
       "            background-color:  #008066;\n",
       "            color:  #f1f1f1;\n",
       "        }    #T_cce9a352_b002_11ea_8f55_e86a644f3b81row0_col12 {\n",
       "            background-color:  #ffff66;\n",
       "            color:  #000000;\n",
       "        }    #T_cce9a352_b002_11ea_8f55_e86a644f3b81row0_col13 {\n",
       "            background-color:  #008066;\n",
       "            color:  #f1f1f1;\n",
       "        }    #T_cce9a352_b002_11ea_8f55_e86a644f3b81row0_col14 {\n",
       "            background-color:  #008066;\n",
       "            color:  #f1f1f1;\n",
       "        }    #T_cce9a352_b002_11ea_8f55_e86a644f3b81row0_col15 {\n",
       "            background-color:  #ffff66;\n",
       "            color:  #000000;\n",
       "        }    #T_cce9a352_b002_11ea_8f55_e86a644f3b81row0_col16 {\n",
       "            background-color:  #ffff66;\n",
       "            color:  #000000;\n",
       "        }    #T_cce9a352_b002_11ea_8f55_e86a644f3b81row0_col17 {\n",
       "            background-color:  #ffff66;\n",
       "            color:  #000000;\n",
       "        }    #T_cce9a352_b002_11ea_8f55_e86a644f3b81row1_col0 {\n",
       "            background-color:  #008066;\n",
       "            color:  #f1f1f1;\n",
       "        }    #T_cce9a352_b002_11ea_8f55_e86a644f3b81row1_col1 {\n",
       "            background-color:  #008066;\n",
       "            color:  #f1f1f1;\n",
       "        }    #T_cce9a352_b002_11ea_8f55_e86a644f3b81row1_col2 {\n",
       "            background-color:  #ffff66;\n",
       "            color:  #000000;\n",
       "        }    #T_cce9a352_b002_11ea_8f55_e86a644f3b81row1_col3 {\n",
       "            background-color:  #008066;\n",
       "            color:  #f1f1f1;\n",
       "        }    #T_cce9a352_b002_11ea_8f55_e86a644f3b81row1_col4 {\n",
       "            background-color:  #2a9466;\n",
       "            color:  #000000;\n",
       "        }    #T_cce9a352_b002_11ea_8f55_e86a644f3b81row1_col5 {\n",
       "            background-color:  #008066;\n",
       "            color:  #f1f1f1;\n",
       "        }    #T_cce9a352_b002_11ea_8f55_e86a644f3b81row1_col6 {\n",
       "            background-color:  #ffff66;\n",
       "            color:  #000000;\n",
       "        }    #T_cce9a352_b002_11ea_8f55_e86a644f3b81row1_col7 {\n",
       "            background-color:  #008066;\n",
       "            color:  #f1f1f1;\n",
       "        }    #T_cce9a352_b002_11ea_8f55_e86a644f3b81row1_col8 {\n",
       "            background-color:  #008066;\n",
       "            color:  #f1f1f1;\n",
       "        }    #T_cce9a352_b002_11ea_8f55_e86a644f3b81row1_col9 {\n",
       "            background-color:  #ffff66;\n",
       "            color:  #000000;\n",
       "        }    #T_cce9a352_b002_11ea_8f55_e86a644f3b81row1_col10 {\n",
       "            background-color:  #ffff66;\n",
       "            color:  #000000;\n",
       "        }    #T_cce9a352_b002_11ea_8f55_e86a644f3b81row1_col11 {\n",
       "            background-color:  #ffff66;\n",
       "            color:  #000000;\n",
       "        }    #T_cce9a352_b002_11ea_8f55_e86a644f3b81row1_col12 {\n",
       "            background-color:  #008066;\n",
       "            color:  #f1f1f1;\n",
       "        }    #T_cce9a352_b002_11ea_8f55_e86a644f3b81row1_col13 {\n",
       "            background-color:  #ffff66;\n",
       "            color:  #000000;\n",
       "        }    #T_cce9a352_b002_11ea_8f55_e86a644f3b81row1_col14 {\n",
       "            background-color:  #ffff66;\n",
       "            color:  #000000;\n",
       "        }    #T_cce9a352_b002_11ea_8f55_e86a644f3b81row1_col15 {\n",
       "            background-color:  #008066;\n",
       "            color:  #f1f1f1;\n",
       "        }    #T_cce9a352_b002_11ea_8f55_e86a644f3b81row1_col16 {\n",
       "            background-color:  #008066;\n",
       "            color:  #f1f1f1;\n",
       "        }    #T_cce9a352_b002_11ea_8f55_e86a644f3b81row1_col17 {\n",
       "            background-color:  #8bc566;\n",
       "            color:  #000000;\n",
       "        }    #T_cce9a352_b002_11ea_8f55_e86a644f3b81row2_col0 {\n",
       "            background-color:  #008066;\n",
       "            color:  #f1f1f1;\n",
       "        }    #T_cce9a352_b002_11ea_8f55_e86a644f3b81row2_col1 {\n",
       "            background-color:  #008066;\n",
       "            color:  #f1f1f1;\n",
       "        }    #T_cce9a352_b002_11ea_8f55_e86a644f3b81row2_col2 {\n",
       "            background-color:  #008066;\n",
       "            color:  #f1f1f1;\n",
       "        }    #T_cce9a352_b002_11ea_8f55_e86a644f3b81row2_col3 {\n",
       "            background-color:  #008066;\n",
       "            color:  #f1f1f1;\n",
       "        }    #T_cce9a352_b002_11ea_8f55_e86a644f3b81row2_col4 {\n",
       "            background-color:  #008066;\n",
       "            color:  #f1f1f1;\n",
       "        }    #T_cce9a352_b002_11ea_8f55_e86a644f3b81row2_col5 {\n",
       "            background-color:  #008066;\n",
       "            color:  #f1f1f1;\n",
       "        }    #T_cce9a352_b002_11ea_8f55_e86a644f3b81row2_col6 {\n",
       "            background-color:  #008066;\n",
       "            color:  #f1f1f1;\n",
       "        }    #T_cce9a352_b002_11ea_8f55_e86a644f3b81row2_col7 {\n",
       "            background-color:  #008066;\n",
       "            color:  #f1f1f1;\n",
       "        }    #T_cce9a352_b002_11ea_8f55_e86a644f3b81row2_col8 {\n",
       "            background-color:  #008066;\n",
       "            color:  #f1f1f1;\n",
       "        }    #T_cce9a352_b002_11ea_8f55_e86a644f3b81row2_col9 {\n",
       "            background-color:  #008066;\n",
       "            color:  #f1f1f1;\n",
       "        }    #T_cce9a352_b002_11ea_8f55_e86a644f3b81row2_col10 {\n",
       "            background-color:  #008066;\n",
       "            color:  #f1f1f1;\n",
       "        }    #T_cce9a352_b002_11ea_8f55_e86a644f3b81row2_col11 {\n",
       "            background-color:  #008066;\n",
       "            color:  #f1f1f1;\n",
       "        }    #T_cce9a352_b002_11ea_8f55_e86a644f3b81row2_col12 {\n",
       "            background-color:  #008066;\n",
       "            color:  #f1f1f1;\n",
       "        }    #T_cce9a352_b002_11ea_8f55_e86a644f3b81row2_col13 {\n",
       "            background-color:  #008066;\n",
       "            color:  #f1f1f1;\n",
       "        }    #T_cce9a352_b002_11ea_8f55_e86a644f3b81row2_col14 {\n",
       "            background-color:  #008066;\n",
       "            color:  #f1f1f1;\n",
       "        }    #T_cce9a352_b002_11ea_8f55_e86a644f3b81row2_col15 {\n",
       "            background-color:  #008066;\n",
       "            color:  #f1f1f1;\n",
       "        }    #T_cce9a352_b002_11ea_8f55_e86a644f3b81row2_col16 {\n",
       "            background-color:  #008066;\n",
       "            color:  #f1f1f1;\n",
       "        }    #T_cce9a352_b002_11ea_8f55_e86a644f3b81row2_col17 {\n",
       "            background-color:  #008066;\n",
       "            color:  #f1f1f1;\n",
       "        }</style><table id=\"T_cce9a352_b002_11ea_8f55_e86a644f3b81\" ><thead>    <tr>        <th class=\"index_name level0\" >Titles</th>        <th class=\"col_heading level0 col0\" >Capt</th>        <th class=\"col_heading level0 col1\" >Col</th>        <th class=\"col_heading level0 col2\" >Countess</th>        <th class=\"col_heading level0 col3\" >Don</th>        <th class=\"col_heading level0 col4\" >Dr</th>        <th class=\"col_heading level0 col5\" >Jonkheer</th>        <th class=\"col_heading level0 col6\" >Lady</th>        <th class=\"col_heading level0 col7\" >Major</th>        <th class=\"col_heading level0 col8\" >Master</th>        <th class=\"col_heading level0 col9\" >Miss</th>        <th class=\"col_heading level0 col10\" >Mlle</th>        <th class=\"col_heading level0 col11\" >Mme</th>        <th class=\"col_heading level0 col12\" >Mr</th>        <th class=\"col_heading level0 col13\" >Mrs</th>        <th class=\"col_heading level0 col14\" >Ms</th>        <th class=\"col_heading level0 col15\" >Rev</th>        <th class=\"col_heading level0 col16\" >Sir</th>        <th class=\"col_heading level0 col17\" >All</th>    </tr>    <tr>        <th class=\"index_name level0\" >Sex</th>        <th class=\"blank\" ></th>        <th class=\"blank\" ></th>        <th class=\"blank\" ></th>        <th class=\"blank\" ></th>        <th class=\"blank\" ></th>        <th class=\"blank\" ></th>        <th class=\"blank\" ></th>        <th class=\"blank\" ></th>        <th class=\"blank\" ></th>        <th class=\"blank\" ></th>        <th class=\"blank\" ></th>        <th class=\"blank\" ></th>        <th class=\"blank\" ></th>        <th class=\"blank\" ></th>        <th class=\"blank\" ></th>        <th class=\"blank\" ></th>        <th class=\"blank\" ></th>        <th class=\"blank\" ></th>    </tr></thead><tbody>\n",
       "                <tr>\n",
       "                        <th id=\"T_cce9a352_b002_11ea_8f55_e86a644f3b81level0_row0\" class=\"row_heading level0 row0\" >female</th>\n",
       "                        <td id=\"T_cce9a352_b002_11ea_8f55_e86a644f3b81row0_col0\" class=\"data row0 col0\" >0</td>\n",
       "                        <td id=\"T_cce9a352_b002_11ea_8f55_e86a644f3b81row0_col1\" class=\"data row0 col1\" >0</td>\n",
       "                        <td id=\"T_cce9a352_b002_11ea_8f55_e86a644f3b81row0_col2\" class=\"data row0 col2\" >1</td>\n",
       "                        <td id=\"T_cce9a352_b002_11ea_8f55_e86a644f3b81row0_col3\" class=\"data row0 col3\" >0</td>\n",
       "                        <td id=\"T_cce9a352_b002_11ea_8f55_e86a644f3b81row0_col4\" class=\"data row0 col4\" >1</td>\n",
       "                        <td id=\"T_cce9a352_b002_11ea_8f55_e86a644f3b81row0_col5\" class=\"data row0 col5\" >0</td>\n",
       "                        <td id=\"T_cce9a352_b002_11ea_8f55_e86a644f3b81row0_col6\" class=\"data row0 col6\" >1</td>\n",
       "                        <td id=\"T_cce9a352_b002_11ea_8f55_e86a644f3b81row0_col7\" class=\"data row0 col7\" >0</td>\n",
       "                        <td id=\"T_cce9a352_b002_11ea_8f55_e86a644f3b81row0_col8\" class=\"data row0 col8\" >0</td>\n",
       "                        <td id=\"T_cce9a352_b002_11ea_8f55_e86a644f3b81row0_col9\" class=\"data row0 col9\" >182</td>\n",
       "                        <td id=\"T_cce9a352_b002_11ea_8f55_e86a644f3b81row0_col10\" class=\"data row0 col10\" >2</td>\n",
       "                        <td id=\"T_cce9a352_b002_11ea_8f55_e86a644f3b81row0_col11\" class=\"data row0 col11\" >1</td>\n",
       "                        <td id=\"T_cce9a352_b002_11ea_8f55_e86a644f3b81row0_col12\" class=\"data row0 col12\" >0</td>\n",
       "                        <td id=\"T_cce9a352_b002_11ea_8f55_e86a644f3b81row0_col13\" class=\"data row0 col13\" >125</td>\n",
       "                        <td id=\"T_cce9a352_b002_11ea_8f55_e86a644f3b81row0_col14\" class=\"data row0 col14\" >1</td>\n",
       "                        <td id=\"T_cce9a352_b002_11ea_8f55_e86a644f3b81row0_col15\" class=\"data row0 col15\" >0</td>\n",
       "                        <td id=\"T_cce9a352_b002_11ea_8f55_e86a644f3b81row0_col16\" class=\"data row0 col16\" >0</td>\n",
       "                        <td id=\"T_cce9a352_b002_11ea_8f55_e86a644f3b81row0_col17\" class=\"data row0 col17\" >314</td>\n",
       "            </tr>\n",
       "            <tr>\n",
       "                        <th id=\"T_cce9a352_b002_11ea_8f55_e86a644f3b81level0_row1\" class=\"row_heading level0 row1\" >male</th>\n",
       "                        <td id=\"T_cce9a352_b002_11ea_8f55_e86a644f3b81row1_col0\" class=\"data row1 col0\" >1</td>\n",
       "                        <td id=\"T_cce9a352_b002_11ea_8f55_e86a644f3b81row1_col1\" class=\"data row1 col1\" >2</td>\n",
       "                        <td id=\"T_cce9a352_b002_11ea_8f55_e86a644f3b81row1_col2\" class=\"data row1 col2\" >0</td>\n",
       "                        <td id=\"T_cce9a352_b002_11ea_8f55_e86a644f3b81row1_col3\" class=\"data row1 col3\" >1</td>\n",
       "                        <td id=\"T_cce9a352_b002_11ea_8f55_e86a644f3b81row1_col4\" class=\"data row1 col4\" >6</td>\n",
       "                        <td id=\"T_cce9a352_b002_11ea_8f55_e86a644f3b81row1_col5\" class=\"data row1 col5\" >1</td>\n",
       "                        <td id=\"T_cce9a352_b002_11ea_8f55_e86a644f3b81row1_col6\" class=\"data row1 col6\" >0</td>\n",
       "                        <td id=\"T_cce9a352_b002_11ea_8f55_e86a644f3b81row1_col7\" class=\"data row1 col7\" >2</td>\n",
       "                        <td id=\"T_cce9a352_b002_11ea_8f55_e86a644f3b81row1_col8\" class=\"data row1 col8\" >40</td>\n",
       "                        <td id=\"T_cce9a352_b002_11ea_8f55_e86a644f3b81row1_col9\" class=\"data row1 col9\" >0</td>\n",
       "                        <td id=\"T_cce9a352_b002_11ea_8f55_e86a644f3b81row1_col10\" class=\"data row1 col10\" >0</td>\n",
       "                        <td id=\"T_cce9a352_b002_11ea_8f55_e86a644f3b81row1_col11\" class=\"data row1 col11\" >0</td>\n",
       "                        <td id=\"T_cce9a352_b002_11ea_8f55_e86a644f3b81row1_col12\" class=\"data row1 col12\" >517</td>\n",
       "                        <td id=\"T_cce9a352_b002_11ea_8f55_e86a644f3b81row1_col13\" class=\"data row1 col13\" >0</td>\n",
       "                        <td id=\"T_cce9a352_b002_11ea_8f55_e86a644f3b81row1_col14\" class=\"data row1 col14\" >0</td>\n",
       "                        <td id=\"T_cce9a352_b002_11ea_8f55_e86a644f3b81row1_col15\" class=\"data row1 col15\" >6</td>\n",
       "                        <td id=\"T_cce9a352_b002_11ea_8f55_e86a644f3b81row1_col16\" class=\"data row1 col16\" >1</td>\n",
       "                        <td id=\"T_cce9a352_b002_11ea_8f55_e86a644f3b81row1_col17\" class=\"data row1 col17\" >577</td>\n",
       "            </tr>\n",
       "            <tr>\n",
       "                        <th id=\"T_cce9a352_b002_11ea_8f55_e86a644f3b81level0_row2\" class=\"row_heading level0 row2\" >All</th>\n",
       "                        <td id=\"T_cce9a352_b002_11ea_8f55_e86a644f3b81row2_col0\" class=\"data row2 col0\" >1</td>\n",
       "                        <td id=\"T_cce9a352_b002_11ea_8f55_e86a644f3b81row2_col1\" class=\"data row2 col1\" >2</td>\n",
       "                        <td id=\"T_cce9a352_b002_11ea_8f55_e86a644f3b81row2_col2\" class=\"data row2 col2\" >1</td>\n",
       "                        <td id=\"T_cce9a352_b002_11ea_8f55_e86a644f3b81row2_col3\" class=\"data row2 col3\" >1</td>\n",
       "                        <td id=\"T_cce9a352_b002_11ea_8f55_e86a644f3b81row2_col4\" class=\"data row2 col4\" >7</td>\n",
       "                        <td id=\"T_cce9a352_b002_11ea_8f55_e86a644f3b81row2_col5\" class=\"data row2 col5\" >1</td>\n",
       "                        <td id=\"T_cce9a352_b002_11ea_8f55_e86a644f3b81row2_col6\" class=\"data row2 col6\" >1</td>\n",
       "                        <td id=\"T_cce9a352_b002_11ea_8f55_e86a644f3b81row2_col7\" class=\"data row2 col7\" >2</td>\n",
       "                        <td id=\"T_cce9a352_b002_11ea_8f55_e86a644f3b81row2_col8\" class=\"data row2 col8\" >40</td>\n",
       "                        <td id=\"T_cce9a352_b002_11ea_8f55_e86a644f3b81row2_col9\" class=\"data row2 col9\" >182</td>\n",
       "                        <td id=\"T_cce9a352_b002_11ea_8f55_e86a644f3b81row2_col10\" class=\"data row2 col10\" >2</td>\n",
       "                        <td id=\"T_cce9a352_b002_11ea_8f55_e86a644f3b81row2_col11\" class=\"data row2 col11\" >1</td>\n",
       "                        <td id=\"T_cce9a352_b002_11ea_8f55_e86a644f3b81row2_col12\" class=\"data row2 col12\" >517</td>\n",
       "                        <td id=\"T_cce9a352_b002_11ea_8f55_e86a644f3b81row2_col13\" class=\"data row2 col13\" >125</td>\n",
       "                        <td id=\"T_cce9a352_b002_11ea_8f55_e86a644f3b81row2_col14\" class=\"data row2 col14\" >1</td>\n",
       "                        <td id=\"T_cce9a352_b002_11ea_8f55_e86a644f3b81row2_col15\" class=\"data row2 col15\" >6</td>\n",
       "                        <td id=\"T_cce9a352_b002_11ea_8f55_e86a644f3b81row2_col16\" class=\"data row2 col16\" >1</td>\n",
       "                        <td id=\"T_cce9a352_b002_11ea_8f55_e86a644f3b81row2_col17\" class=\"data row2 col17\" >891</td>\n",
       "            </tr>\n",
       "    </tbody></table>"
      ],
      "text/plain": [
       "<pandas.io.formats.style.Styler at 0x1e2413ad388>"
      ]
     },
     "execution_count": 15,
     "metadata": {},
     "output_type": "execute_result"
    }
   ],
   "source": [
    "# Next step: replace 177 null values from the age column for better representation \n",
    "# Looking for titles and extracting them \n",
    "\n",
    "data['Titles']=0\n",
    "for x in data:\n",
    "    data['Titles']=data.Name.str.extract('([A-Za-z]+)\\.')\n",
    "    \n",
    "pd.crosstab(data.Titles, data.Sex, margins=True).T.style.background_gradient(cmap='summer_r')"
   ]
  },
  {
   "cell_type": "code",
   "execution_count": 16,
   "metadata": {},
   "outputs": [
    {
     "data": {
      "text/plain": [
       "Titles\n",
       "Master     4.574167\n",
       "Miss      21.860000\n",
       "Mr        32.739609\n",
       "Mrs       35.981818\n",
       "Other     45.888889\n",
       "Name: Age, dtype: float64"
      ]
     },
     "execution_count": 16,
     "metadata": {},
     "output_type": "execute_result"
    }
   ],
   "source": [
    "data['Titles'].replace(['Mlle','Mme','Ms','Dr','Major','Lady','Countess','Jonkheer','Col','Rev','Capt','Sir','Don'],['Miss','Miss','Miss','Mr','Mr','Mrs','Mrs','Other','Other','Other','Mr','Mr','Mr'],inplace=True)\n",
    "\n",
    "data.groupby('Titles')['Age'].mean()"
   ]
  },
  {
   "cell_type": "code",
   "execution_count": null,
   "metadata": {},
   "outputs": [],
   "source": []
  }
 ],
 "metadata": {
  "kernelspec": {
   "display_name": "Python 3",
   "language": "python",
   "name": "python3"
  },
  "language_info": {
   "codemirror_mode": {
    "name": "ipython",
    "version": 3
   },
   "file_extension": ".py",
   "mimetype": "text/x-python",
   "name": "python",
   "nbconvert_exporter": "python",
   "pygments_lexer": "ipython3",
   "version": "3.7.6"
  }
 },
 "nbformat": 4,
 "nbformat_minor": 4
}
